{
 "cells": [
  {
   "cell_type": "code",
   "execution_count": 1,
   "metadata": {},
   "outputs": [],
   "source": [
    "import matplotlib.pyplot as plt \n",
    "from simplified import *\n",
    "from tqdm import tqdm"
   ]
  },
  {
   "attachments": {},
   "cell_type": "markdown",
   "metadata": {},
   "source": [
    "## Try different parameters for a two-sided market with N + N = 20000 people. And get the accuracy classification rate of the type of Romeos of greedy, random and epsilon-greedy algorithm after 500 times attempts."
   ]
  },
  {
   "cell_type": "code",
   "execution_count": 5,
   "metadata": {},
   "outputs": [
    {
     "name": "stderr",
     "output_type": "stream",
     "text": [
      "100%|██████████| 5/5 [1:18:23<00:00, 940.78s/it]\n"
     ]
    }
   ],
   "source": [
    "# N, T, match_prob, ratio1, ratio2, initial_guess\n",
    "N = 10000\n",
    "T = 500\n",
    "params = [\n",
    "    [[[0.8, 0.1], [0.8, 0.1]],0.8, 0.2, [0.8, 0.2]],\n",
    "    [[[0.8, 0.3], [0.1, 0.1]],0.8, 0.2, [0.8, 0.2]],\n",
    "    [[[0.9, 0.5], [0.5, 0.2]],0.3, 0.3, [0.3, 0.3]],\n",
    "    [[[0.3, 0.5], [0.4, 0.6]],0.3, 0.4, [0.3, 0.4]],\n",
    "    [[[0.3, 0.5], [0.4, 0.6]],0.8, 0.2, [0.8, 0.2]],\n",
    "]\n",
    "\n",
    "rtn = []\n",
    "for i in tqdm(range(5)):\n",
    "    temp = []\n",
    "    target = int(params[i][1]*N)\n",
    "    for seed in range(10):\n",
    "        res = simulation(N, T, params[i][0], params[i][1], params[i][2], params[i][3])\n",
    "        temp.append([res[-3]/target, res[-2]/target, res[-1]/target])\n",
    "    rtn.append(temp)"
   ]
  },
  {
   "cell_type": "code",
   "execution_count": 6,
   "metadata": {},
   "outputs": [
    {
     "name": "stdout",
     "output_type": "stream",
     "text": [
      "[[[0.8, 0.1], [0.8, 0.1]], 0.8, 0.2, [0.8, 0.2]]\n",
      "Average correct rate of greedy is 1.0\n",
      "Average correct rate of random is 1.0\n",
      "Average correct rate of epsilon_greedy is 1.0\n",
      "\n",
      "[[[0.8, 0.3], [0.1, 0.1]], 0.8, 0.2, [0.8, 0.2]]\n",
      "Average correct rate of greedy is 0.99975\n",
      "Average correct rate of random is 1.0\n",
      "Average correct rate of epsilon_greedy is 1.0\n",
      "\n",
      "[[[0.9, 0.5], [0.5, 0.2]], 0.3, 0.3, [0.3, 0.3]]\n",
      "Average correct rate of greedy is 1.0\n",
      "Average correct rate of random is 1.0\n",
      "Average correct rate of epsilon_greedy is 1.0\n",
      "\n",
      "[[[0.3, 0.5], [0.4, 0.6]], 0.3, 0.4, [0.3, 0.4]]\n",
      "Average correct rate of greedy is 1.0\n",
      "Average correct rate of random is 1.0\n",
      "Average correct rate of epsilon_greedy is 0.9996666666666665\n",
      "\n",
      "[[[0.3, 0.5], [0.4, 0.6]], 0.8, 0.2, [0.8, 0.2]]\n",
      "Average correct rate of greedy is 1.0\n",
      "Average correct rate of random is 1.0\n",
      "Average correct rate of epsilon_greedy is 1.0\n",
      "\n"
     ]
    }
   ],
   "source": [
    "for i in range(5):\n",
    "    print(params[i])\n",
    "    res = rtn[i]\n",
    "    r1 = 0\n",
    "    r2 = 0\n",
    "    r3 = 0\n",
    "    for j in range(10):\n",
    "        r1 += res[j][0]\n",
    "        r2 += res[j][1]\n",
    "        r3 += res[j][2]\n",
    "    print(\"Average correct rate of greedy is\", r1/10)\n",
    "    print(\"Average correct rate of random is\", r2/10)\n",
    "    print(\"Average correct rate of epsilon_greedy is\", r3/10)\n",
    "    print()\n"
   ]
  },
  {
   "cell_type": "code",
   "execution_count": null,
   "metadata": {},
   "outputs": [],
   "source": []
  }
 ],
 "metadata": {
  "kernelspec": {
   "display_name": "base",
   "language": "python",
   "name": "python3"
  },
  "language_info": {
   "codemirror_mode": {
    "name": "ipython",
    "version": 3
   },
   "file_extension": ".py",
   "mimetype": "text/x-python",
   "name": "python",
   "nbconvert_exporter": "python",
   "pygments_lexer": "ipython3",
   "version": "3.9.13"
  },
  "orig_nbformat": 4
 },
 "nbformat": 4,
 "nbformat_minor": 2
}
